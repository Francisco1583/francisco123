{
 "cells": [
  {
   "attachments": {},
   "cell_type": "markdown",
   "metadata": {},
   "source": [
    "# **Tarea 02 - Calculo de medidas de tendencia central**\n",
    "\n",
    "Jhonatan Yael Martínez Vargas - A01734193\n",
    "\n",
    "Luis Adrián Díaz Santana González - A01734193\n",
    "\n",
    "Francisco Antonio López Ricardez -A01737275"
   ]
  },
  {
   "attachments": {},
   "cell_type": "markdown",
   "metadata": {},
   "source": [
    "En la actualidad, el análisis de datos se está convirtiendo en una actividad recurrente dentro del mundo empresarial, pues permite examinar, transformar y modelar datos con el fin de extraer información útil. Esto hace que sea una herramienta muy útil al momento de optimizar procesos, tomar decisiones y descubrir patrones que puedan generar predicciones.\n",
    "\n",
    "Por ese mismo motivo a continuación se presenta un breve ejemplo de cómo usando la librería pandas de python, se pueden extraer las medidas de tendencia central de una base de datos libre proveniente del e-commerce “Ulabox”, y como estas mismas ayudan a entender cual es comportamiento del negocio."
   ]
  },
  {
   "attachments": {},
   "cell_type": "markdown",
   "metadata": {},
   "source": [
    "---\n",
    "\n",
    "### **Paso 01**\n",
    "\n",
    "Se importa la libreria, se guardan los datos del archivo .csv y se muestra el dataframe generado\n",
    "\n",
    "###### *Nota: en este caso separamos los datos en diferentes dataframes para que posteriormente se visualizen de mejor manera.*"
   ]
  },
  {
   "cell_type": "code",
   "execution_count": 8,
   "metadata": {},
   "outputs": [
    {
     "data": {
      "text/html": [
       "<div>\n",
       "<style scoped>\n",
       "    .dataframe tbody tr th:only-of-type {\n",
       "        vertical-align: middle;\n",
       "    }\n",
       "\n",
       "    .dataframe tbody tr th {\n",
       "        vertical-align: top;\n",
       "    }\n",
       "\n",
       "    .dataframe thead th {\n",
       "        text-align: right;\n",
       "    }\n",
       "</style>\n",
       "<table border=\"1\" class=\"dataframe\">\n",
       "  <thead>\n",
       "    <tr style=\"text-align: right;\">\n",
       "      <th></th>\n",
       "      <th>customer</th>\n",
       "      <th>order</th>\n",
       "      <th>total_items</th>\n",
       "      <th>discount%</th>\n",
       "      <th>weekday</th>\n",
       "      <th>hour</th>\n",
       "      <th>Food%</th>\n",
       "      <th>Fresh%</th>\n",
       "      <th>Drinks%</th>\n",
       "      <th>Home%</th>\n",
       "      <th>Beauty%</th>\n",
       "      <th>Health%</th>\n",
       "      <th>Baby%</th>\n",
       "      <th>Pets%</th>\n",
       "    </tr>\n",
       "  </thead>\n",
       "  <tbody>\n",
       "    <tr>\n",
       "      <th>0</th>\n",
       "      <td>0</td>\n",
       "      <td>0</td>\n",
       "      <td>45</td>\n",
       "      <td>23.03</td>\n",
       "      <td>4</td>\n",
       "      <td>13</td>\n",
       "      <td>9.46</td>\n",
       "      <td>87.06</td>\n",
       "      <td>3.48</td>\n",
       "      <td>0.00</td>\n",
       "      <td>0.00</td>\n",
       "      <td>0.00</td>\n",
       "      <td>0.0</td>\n",
       "      <td>0.0</td>\n",
       "    </tr>\n",
       "    <tr>\n",
       "      <th>1</th>\n",
       "      <td>0</td>\n",
       "      <td>1</td>\n",
       "      <td>38</td>\n",
       "      <td>1.22</td>\n",
       "      <td>5</td>\n",
       "      <td>13</td>\n",
       "      <td>15.87</td>\n",
       "      <td>75.80</td>\n",
       "      <td>6.22</td>\n",
       "      <td>2.12</td>\n",
       "      <td>0.00</td>\n",
       "      <td>0.00</td>\n",
       "      <td>0.0</td>\n",
       "      <td>0.0</td>\n",
       "    </tr>\n",
       "    <tr>\n",
       "      <th>2</th>\n",
       "      <td>0</td>\n",
       "      <td>2</td>\n",
       "      <td>51</td>\n",
       "      <td>18.08</td>\n",
       "      <td>4</td>\n",
       "      <td>13</td>\n",
       "      <td>16.88</td>\n",
       "      <td>56.75</td>\n",
       "      <td>3.37</td>\n",
       "      <td>16.48</td>\n",
       "      <td>6.53</td>\n",
       "      <td>0.00</td>\n",
       "      <td>0.0</td>\n",
       "      <td>0.0</td>\n",
       "    </tr>\n",
       "    <tr>\n",
       "      <th>3</th>\n",
       "      <td>1</td>\n",
       "      <td>3</td>\n",
       "      <td>57</td>\n",
       "      <td>16.51</td>\n",
       "      <td>1</td>\n",
       "      <td>12</td>\n",
       "      <td>28.81</td>\n",
       "      <td>35.99</td>\n",
       "      <td>11.78</td>\n",
       "      <td>4.62</td>\n",
       "      <td>2.87</td>\n",
       "      <td>15.92</td>\n",
       "      <td>0.0</td>\n",
       "      <td>0.0</td>\n",
       "    </tr>\n",
       "    <tr>\n",
       "      <th>4</th>\n",
       "      <td>1</td>\n",
       "      <td>4</td>\n",
       "      <td>53</td>\n",
       "      <td>18.31</td>\n",
       "      <td>2</td>\n",
       "      <td>11</td>\n",
       "      <td>24.13</td>\n",
       "      <td>60.38</td>\n",
       "      <td>7.78</td>\n",
       "      <td>7.72</td>\n",
       "      <td>0.00</td>\n",
       "      <td>0.00</td>\n",
       "      <td>0.0</td>\n",
       "      <td>0.0</td>\n",
       "    </tr>\n",
       "    <tr>\n",
       "      <th>...</th>\n",
       "      <td>...</td>\n",
       "      <td>...</td>\n",
       "      <td>...</td>\n",
       "      <td>...</td>\n",
       "      <td>...</td>\n",
       "      <td>...</td>\n",
       "      <td>...</td>\n",
       "      <td>...</td>\n",
       "      <td>...</td>\n",
       "      <td>...</td>\n",
       "      <td>...</td>\n",
       "      <td>...</td>\n",
       "      <td>...</td>\n",
       "      <td>...</td>\n",
       "    </tr>\n",
       "    <tr>\n",
       "      <th>29995</th>\n",
       "      <td>10235</td>\n",
       "      <td>29995</td>\n",
       "      <td>4</td>\n",
       "      <td>0.00</td>\n",
       "      <td>5</td>\n",
       "      <td>10</td>\n",
       "      <td>5.80</td>\n",
       "      <td>0.00</td>\n",
       "      <td>51.30</td>\n",
       "      <td>0.00</td>\n",
       "      <td>0.00</td>\n",
       "      <td>0.00</td>\n",
       "      <td>0.0</td>\n",
       "      <td>42.9</td>\n",
       "    </tr>\n",
       "    <tr>\n",
       "      <th>29996</th>\n",
       "      <td>10236</td>\n",
       "      <td>29996</td>\n",
       "      <td>1</td>\n",
       "      <td>0.00</td>\n",
       "      <td>7</td>\n",
       "      <td>21</td>\n",
       "      <td>0.00</td>\n",
       "      <td>0.00</td>\n",
       "      <td>0.00</td>\n",
       "      <td>0.00</td>\n",
       "      <td>100.00</td>\n",
       "      <td>0.00</td>\n",
       "      <td>0.0</td>\n",
       "      <td>0.0</td>\n",
       "    </tr>\n",
       "    <tr>\n",
       "      <th>29997</th>\n",
       "      <td>10237</td>\n",
       "      <td>29997</td>\n",
       "      <td>54</td>\n",
       "      <td>0.00</td>\n",
       "      <td>4</td>\n",
       "      <td>17</td>\n",
       "      <td>9.25</td>\n",
       "      <td>0.00</td>\n",
       "      <td>77.48</td>\n",
       "      <td>13.27</td>\n",
       "      <td>0.00</td>\n",
       "      <td>0.00</td>\n",
       "      <td>0.0</td>\n",
       "      <td>0.0</td>\n",
       "    </tr>\n",
       "    <tr>\n",
       "      <th>29998</th>\n",
       "      <td>10237</td>\n",
       "      <td>29998</td>\n",
       "      <td>10</td>\n",
       "      <td>0.00</td>\n",
       "      <td>5</td>\n",
       "      <td>10</td>\n",
       "      <td>0.00</td>\n",
       "      <td>0.00</td>\n",
       "      <td>100.00</td>\n",
       "      <td>0.00</td>\n",
       "      <td>0.00</td>\n",
       "      <td>0.00</td>\n",
       "      <td>0.0</td>\n",
       "      <td>0.0</td>\n",
       "    </tr>\n",
       "    <tr>\n",
       "      <th>29999</th>\n",
       "      <td>10238</td>\n",
       "      <td>29999</td>\n",
       "      <td>2</td>\n",
       "      <td>0.00</td>\n",
       "      <td>4</td>\n",
       "      <td>17</td>\n",
       "      <td>0.00</td>\n",
       "      <td>0.00</td>\n",
       "      <td>0.00</td>\n",
       "      <td>0.00</td>\n",
       "      <td>0.00</td>\n",
       "      <td>0.00</td>\n",
       "      <td>100.0</td>\n",
       "      <td>0.0</td>\n",
       "    </tr>\n",
       "  </tbody>\n",
       "</table>\n",
       "<p>30000 rows × 14 columns</p>\n",
       "</div>"
      ],
      "text/plain": [
       "       customer  order  total_items  discount%  weekday  hour  Food%  Fresh%  \\\n",
       "0             0      0           45      23.03        4    13   9.46   87.06   \n",
       "1             0      1           38       1.22        5    13  15.87   75.80   \n",
       "2             0      2           51      18.08        4    13  16.88   56.75   \n",
       "3             1      3           57      16.51        1    12  28.81   35.99   \n",
       "4             1      4           53      18.31        2    11  24.13   60.38   \n",
       "...         ...    ...          ...        ...      ...   ...    ...     ...   \n",
       "29995     10235  29995            4       0.00        5    10   5.80    0.00   \n",
       "29996     10236  29996            1       0.00        7    21   0.00    0.00   \n",
       "29997     10237  29997           54       0.00        4    17   9.25    0.00   \n",
       "29998     10237  29998           10       0.00        5    10   0.00    0.00   \n",
       "29999     10238  29999            2       0.00        4    17   0.00    0.00   \n",
       "\n",
       "       Drinks%  Home%  Beauty%  Health%  Baby%  Pets%  \n",
       "0         3.48   0.00     0.00     0.00    0.0    0.0  \n",
       "1         6.22   2.12     0.00     0.00    0.0    0.0  \n",
       "2         3.37  16.48     6.53     0.00    0.0    0.0  \n",
       "3        11.78   4.62     2.87    15.92    0.0    0.0  \n",
       "4         7.78   7.72     0.00     0.00    0.0    0.0  \n",
       "...        ...    ...      ...      ...    ...    ...  \n",
       "29995    51.30   0.00     0.00     0.00    0.0   42.9  \n",
       "29996     0.00   0.00   100.00     0.00    0.0    0.0  \n",
       "29997    77.48  13.27     0.00     0.00    0.0    0.0  \n",
       "29998   100.00   0.00     0.00     0.00    0.0    0.0  \n",
       "29999     0.00   0.00     0.00     0.00  100.0    0.0  \n",
       "\n",
       "[30000 rows x 14 columns]"
      ]
     },
     "execution_count": 8,
     "metadata": {},
     "output_type": "execute_result"
    }
   ],
   "source": [
    "import pandas as pd\n",
    "import seaborn as sns\n",
    "from kneed import KneeLocator\n",
    "import matplotlib.pyplot as plt\n",
    "from sklearn.cluster import KMeans\n",
    "\n",
    "df = pd.read_csv(\"ulabox_orders_with_categories_partials_2017.csv\")\n",
    "\n",
    "customer_df = df[['customer']]\n",
    "items = df[['total_items']]\n",
    "disconut = df[['discount%']]\n",
    "date_df = df[['weekday', 'hour']]\n",
    "departments = df[['Food%', 'Fresh%', 'Drinks%', 'Home%', 'Beauty%', 'Health%', 'Baby%', 'Pets%']]\n",
    "\n",
    "df"
   ]
  },
  {
   "attachments": {},
   "cell_type": "markdown",
   "metadata": {},
   "source": [
    "Observando el data frame anterior nos percatamos que la base de datos con la que estamos trabajando contiene la informacion de **30,000** compras realizadas, en este caso cada una de las columnas representa lo sigueinte:\n",
    "\n",
    "- **Customer:** Numero de cliente.\n",
    "\n",
    "- **Order:** Numero de pedido.\n",
    "\n",
    "- **Total_items:** Total de objetos comprados.\n",
    "\n",
    "- **Discount:** Porcentaje de descuento aplicado a la compra.\n",
    "\n",
    "- **Weekday:** Dia de la semana en la que se realizo la compra.\n",
    "\n",
    "- **Hour:** Hora en la que se realizo la compra.\n",
    "\n",
    "- **Food:** Porcentaje de la compra destinada a alimentos.\n",
    "\n",
    "- **Fresh:** Porcentaje de la compra destinada aproductos frescos.\n",
    "\n",
    "- **Drinks:** Porcentaje de la compra destinada a bebidas.\n",
    "\n",
    "- **Home:**  Porcentaje de la compra destinada a productos para el hogar. \n",
    "\n",
    "- **Beauty:**  Porcentaje de la compra destinada a productos de belleza.\n",
    "\n",
    "- **Health:**  Porcentaje de la compra destinada al cuidado de la salud.\n",
    "\n",
    "- **Baby:**  Porcentaje de la compra destinada a productos de bebe.\n",
    "\n",
    "- **Pets:**  Porcentaje de la compra destinada a productos para la mascota.\n"
   ]
  },
  {
   "attachments": {},
   "cell_type": "markdown",
   "metadata": {},
   "source": [
    "---\n",
    "\n",
    "### **Paso 02**\n",
    "\n",
    "Una vez identificados los datos con los que se va a trabajar es necesario calcular las medidas de tendencia central, para esto usamos los metodos ***describe*** y ***mode*** para los casos en donde se requiera."
   ]
  },
  {
   "cell_type": "code",
   "execution_count": 9,
   "metadata": {},
   "outputs": [
    {
     "name": "stdout",
     "output_type": "stream",
     "text": [
      "Freccuencia de compra por cliente\n"
     ]
    },
    {
     "data": {
      "text/plain": [
       "customer\n",
       "0         3\n",
       "1        20\n",
       "2         1\n",
       "3        23\n",
       "4        29\n",
       "         ..\n",
       "10234     1\n",
       "10235     1\n",
       "10236     1\n",
       "10237     2\n",
       "10238     1\n",
       "Length: 10239, dtype: int64"
      ]
     },
     "execution_count": 9,
     "metadata": {},
     "output_type": "execute_result"
    }
   ],
   "source": [
    "print(\"Freccuencia de compra por cliente\")\n",
    "customer_df.pivot_table(columns = ['customer'], aggfunc = 'size')"
   ]
  },
  {
   "cell_type": "code",
   "execution_count": 10,
   "metadata": {},
   "outputs": [
    {
     "name": "stdout",
     "output_type": "stream",
     "text": [
      "Medidas de tendencia central de los objetos comprado\n"
     ]
    },
    {
     "data": {
      "text/html": [
       "<div>\n",
       "<style scoped>\n",
       "    .dataframe tbody tr th:only-of-type {\n",
       "        vertical-align: middle;\n",
       "    }\n",
       "\n",
       "    .dataframe tbody tr th {\n",
       "        vertical-align: top;\n",
       "    }\n",
       "\n",
       "    .dataframe thead th {\n",
       "        text-align: right;\n",
       "    }\n",
       "</style>\n",
       "<table border=\"1\" class=\"dataframe\">\n",
       "  <thead>\n",
       "    <tr style=\"text-align: right;\">\n",
       "      <th></th>\n",
       "      <th>total_items</th>\n",
       "    </tr>\n",
       "  </thead>\n",
       "  <tbody>\n",
       "    <tr>\n",
       "      <th>count</th>\n",
       "      <td>30000.000000</td>\n",
       "    </tr>\n",
       "    <tr>\n",
       "      <th>mean</th>\n",
       "      <td>31.739933</td>\n",
       "    </tr>\n",
       "    <tr>\n",
       "      <th>std</th>\n",
       "      <td>20.576579</td>\n",
       "    </tr>\n",
       "    <tr>\n",
       "      <th>min</th>\n",
       "      <td>1.000000</td>\n",
       "    </tr>\n",
       "    <tr>\n",
       "      <th>25%</th>\n",
       "      <td>18.000000</td>\n",
       "    </tr>\n",
       "    <tr>\n",
       "      <th>50%</th>\n",
       "      <td>29.000000</td>\n",
       "    </tr>\n",
       "    <tr>\n",
       "      <th>75%</th>\n",
       "      <td>41.000000</td>\n",
       "    </tr>\n",
       "    <tr>\n",
       "      <th>max</th>\n",
       "      <td>298.000000</td>\n",
       "    </tr>\n",
       "  </tbody>\n",
       "</table>\n",
       "</div>"
      ],
      "text/plain": [
       "        total_items\n",
       "count  30000.000000\n",
       "mean      31.739933\n",
       "std       20.576579\n",
       "min        1.000000\n",
       "25%       18.000000\n",
       "50%       29.000000\n",
       "75%       41.000000\n",
       "max      298.000000"
      ]
     },
     "execution_count": 10,
     "metadata": {},
     "output_type": "execute_result"
    }
   ],
   "source": [
    "print(\"Medidas de tendencia central de los objetos comprado\")\n",
    "items.describe()"
   ]
  },
  {
   "cell_type": "code",
   "execution_count": 11,
   "metadata": {},
   "outputs": [
    {
     "name": "stdout",
     "output_type": "stream",
     "text": [
      "Moda de los objetos comprados\n"
     ]
    },
    {
     "data": {
      "text/html": [
       "<div>\n",
       "<style scoped>\n",
       "    .dataframe tbody tr th:only-of-type {\n",
       "        vertical-align: middle;\n",
       "    }\n",
       "\n",
       "    .dataframe tbody tr th {\n",
       "        vertical-align: top;\n",
       "    }\n",
       "\n",
       "    .dataframe thead th {\n",
       "        text-align: right;\n",
       "    }\n",
       "</style>\n",
       "<table border=\"1\" class=\"dataframe\">\n",
       "  <thead>\n",
       "    <tr style=\"text-align: right;\">\n",
       "      <th></th>\n",
       "      <th>total_items</th>\n",
       "    </tr>\n",
       "  </thead>\n",
       "  <tbody>\n",
       "    <tr>\n",
       "      <th>0</th>\n",
       "      <td>25</td>\n",
       "    </tr>\n",
       "  </tbody>\n",
       "</table>\n",
       "</div>"
      ],
      "text/plain": [
       "   total_items\n",
       "0           25"
      ]
     },
     "execution_count": 11,
     "metadata": {},
     "output_type": "execute_result"
    }
   ],
   "source": [
    "print(\"Moda de los objetos comprados\")\n",
    "items.mode()"
   ]
  },
  {
   "attachments": {},
   "cell_type": "markdown",
   "metadata": {},
   "source": [
    "Con esta informacion se puede apreciar que para un total de **30,000** ventas, el ***promedio*** de productos de que se compran osciala entre **31 y 32 articulos**, mientras que la mayoria de la gente compra **25 articulos**.\n",
    "\n",
    "O dicho de otra manera:\n",
    "* Para el **25%** de las ventas la gente compra menos de 18 articulos.\n",
    "* Para el **50%** de las ventas la gente compra menos de 29 articulos.\n",
    "* Para el **75%** de las ventas la gente compra menos de 41 articulos."
   ]
  },
  {
   "cell_type": "code",
   "execution_count": 12,
   "metadata": {},
   "outputs": [
    {
     "data": {
      "text/plain": [
       "customer\n",
       "0        134\n",
       "1        623\n",
       "2         26\n",
       "3        639\n",
       "4        496\n",
       "        ... \n",
       "10234      1\n",
       "10235      4\n",
       "10236      1\n",
       "10237     64\n",
       "10238      2\n",
       "Name: total_items, Length: 10239, dtype: int64"
      ]
     },
     "execution_count": 12,
     "metadata": {},
     "output_type": "execute_result"
    }
   ],
   "source": [
    "# Agrupar el numero de productos comprados por cada usuario\n",
    "citems_df = df.groupby(\"customer\")[\"total_items\"].sum()\n",
    "citems_df"
   ]
  },
  {
   "cell_type": "code",
   "execution_count": 13,
   "metadata": {},
   "outputs": [
    {
     "data": {
      "text/plain": [
       "customer\n",
       "0        14.110000\n",
       "1        17.849000\n",
       "2         2.970000\n",
       "3         4.102174\n",
       "4         4.373103\n",
       "           ...    \n",
       "10234     0.000000\n",
       "10235     0.000000\n",
       "10236     0.000000\n",
       "10237     0.000000\n",
       "10238     0.000000\n",
       "Name: discount%, Length: 10239, dtype: float64"
      ]
     },
     "execution_count": 13,
     "metadata": {},
     "output_type": "execute_result"
    }
   ],
   "source": [
    "# Agrupar cada usuario con el promedio de porcentaje que se aplica por descuento\n",
    "disconut_mean_df = df.groupby(\"customer\")[\"discount%\"].mean()\n",
    "disconut_mean_df"
   ]
  },
  {
   "cell_type": "code",
   "execution_count": 38,
   "metadata": {},
   "outputs": [
    {
     "data": {
      "text/plain": [
       "<Axes: >"
      ]
     },
     "execution_count": 38,
     "metadata": {},
     "output_type": "execute_result"
    },
    {
     "data": {
      "image/png": "[encoded data removed]",
      "text/plain": [
       "<Figure size 640x480 with 2 Axes>"
      ]
     },
     "metadata": {},
     "output_type": "display_data"
    }
   ],
   "source": [
    "# Crear los dataframes\n",
    "df1 = pd.DataFrame({\"items\": citems_df.values})\n",
    "df2 = pd.DataFrame({\"descuentos\" : disconut_mean_df})\n",
    "\n",
    "# Combinar los dataframes\n",
    "df_merged = df1.join(df2)\n",
    "df_merged\n",
    "\n",
    "sns.heatmap(df_merged.corr(), annot = True)"
   ]
  },
  {
   "cell_type": "code",
   "execution_count": 15,
   "metadata": {},
   "outputs": [
    {
     "data": {
      "image/png": "[encoded data removed]",
      "text/plain": [
       "<Figure size 640x480 with 1 Axes>"
      ]
     },
     "metadata": {},
     "output_type": "display_data"
    }
   ],
   "source": [
    "weekdays_frec = date_df.pivot_table(columns = ['weekday'], aggfunc = 'size')\n",
    "\n",
    "weekdays = [\"Lunes\", \"Martes\", \"Miercoles\", \"Jueves\", \"Viernes\", \"Sabado\", \"Domingo\"]\n",
    "weekdays_grafic = sns.barplot(x = weekdays, y =  weekdays_frec.values)\n",
    "weekdays_grafic.set(xlabel =\"Dias\", ylabel = \"Total de compras\", title ='Relacion dias y numero total de compras');\n"
   ]
  },
  {
   "cell_type": "code",
   "execution_count": 16,
   "metadata": {},
   "outputs": [
    {
     "data": {
      "text/plain": [
       "[Text(0.5, 0, 'Horarios'),\n",
       " Text(0, 0.5, 'Total de compras'),\n",
       " Text(0.5, 1.0, 'Numero de compras por hora')]"
      ]
     },
     "execution_count": 16,
     "metadata": {},
     "output_type": "execute_result"
    },
    {
     "data": {
      "image/png": "[encoded data removed]",
      "text/plain": [
       "<Figure size 640x480 with 1 Axes>"
      ]
     },
     "metadata": {},
     "output_type": "display_data"
    }
   ],
   "source": [
    "time_frec = date_df.pivot_table(columns = ['hour'], aggfunc = 'size')\n",
    "\n",
    "time_grafic = sns.barplot(x = time_frec.index, y = time_frec.values)\n",
    "time_grafic.set(xlabel =\"Horarios\", ylabel = \"Total de compras\", title ='Numero de compras por hora')\n"
   ]
  },
  {
   "attachments": {},
   "cell_type": "markdown",
   "metadata": {},
   "source": [
    "En base a los datos arrojados respecto a la moda de fechas de compra, podemos analizar que la mayoria de compras se hacen el día **lunes** a las **22:00 hrs**. "
   ]
  },
  {
   "cell_type": "code",
   "execution_count": 17,
   "metadata": {},
   "outputs": [
    {
     "name": "stdout",
     "output_type": "stream",
     "text": [
      "Medidas de tendencia central de los porcentajes de compras por departamento\n"
     ]
    },
    {
     "data": {
      "image/png": "[encoded data removed]",
      "text/plain": [
       "<Figure size 640x480 with 1 Axes>"
      ]
     },
     "metadata": {},
     "output_type": "display_data"
    }
   ],
   "source": [
    "print(\"Medidas de tendencia central de los porcentajes de compras por departamento\")\n",
    "\n",
    "departments_mean = departments.mean()\n",
    "\n",
    "colors = sns.color_palette('bright')\n",
    "plt.pie(departments_mean.values, labels = departments_mean.index ,colors = colors, autopct = '%0.0f%%')\n",
    "\n",
    "plt.title(\"Porcentaje de compras por departamento\")\n",
    "plt.show()\n",
    "#sns.pie(x = departments_mean.index, y = departments_mean.values)"
   ]
  },
  {
   "attachments": {},
   "cell_type": "markdown",
   "metadata": {},
   "source": [
    "Para mejorar el número de ventas de una tienda es importante saber que productos se venden más y cuales menos para así podr enfocarse más en los que se venden menos, esto facilmente se puede saber con la media obtenida de la tabla de medidadas de tendencia central; Analizando la media de cada porcentaje se ve que los que más sobresalen son **FOOD**, **DRINKS** y **FRESH**, los demás productos difieren bastante en ventas comparado con los que más se vende, esto se puede traducir en que no hay tanta variedad de productos aparte de los más vendidos o es que los productos que se venden no son de los que prefieren los clientes, también puede ser que los precios sean algo elevados."
   ]
  },
  {
   "attachments": {},
   "cell_type": "markdown",
   "metadata": {},
   "source": [
    "---\n",
    "### **Clustering**"
   ]
  },
  {
   "cell_type": "code",
   "execution_count": null,
   "metadata": {},
   "outputs": [],
   "source": []
  }
 ],
 "metadata": {
  "kernelspec": {
   "display_name": "Python 3",
   "language": "python",
   "name": "python3"
  },
  "language_info": {
   "codemirror_mode": {
    "name": "ipython",
    "version": 3
   },
   "file_extension": ".py",
   "mimetype": "text/x-python",
   "name": "python",
   "nbconvert_exporter": "python",
   "pygments_lexer": "ipython3",
   "version": "3.8.10"
  },
  "orig_nbformat": 4
 },
 "nbformat": 4,
 "nbformat_minor": 2
}
